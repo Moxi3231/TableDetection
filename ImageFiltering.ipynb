{
 "cells": [
  {
   "cell_type": "code",
   "execution_count": null,
   "id": "70d6daed",
   "metadata": {},
   "outputs": [],
   "source": [
    "import cv2\n",
    "import glob\n",
    "import numpy as np\n",
    "\n",
    "\n",
    "import matplotlib.pyplot as plt\n",
    "import xml.etree.ElementTree as ET\n",
    "\n",
    "from importlib import reload\n",
    "from IPython.display import display\n",
    "from matplotlib.pyplot import figure"
   ]
  },
  {
   "cell_type": "code",
   "execution_count": null,
   "id": "c5e906b7",
   "metadata": {},
   "outputs": [],
   "source": [
    "def showImage(img,imfg = True):\n",
    "    fig,ax = plt.subplots(1,figsize=(25,25))\n",
    "    ax.imshow(img,cmap = 'gray')\n",
    "    return ax"
   ]
  },
  {
   "cell_type": "code",
   "execution_count": null,
   "id": "b7ac0588",
   "metadata": {
    "scrolled": false
   },
   "outputs": [],
   "source": [
    "img = cv2.cvtColor(cv2.imread('../data/TRACKB_training/cTDaR_t00927.jpg'),cv2.COLOR_BGR2GRAY)\n",
    "#showImage(img)\n",
    "#showImage(get2img(img))\n",
    "#showImage(get3img(img))"
   ]
  },
  {
   "cell_type": "code",
   "execution_count": null,
   "id": "8323e89b",
   "metadata": {
    "scrolled": false
   },
   "outputs": [],
   "source": [
    "def get2img(img):\n",
    "    \n",
    "    imgb = (img <= 128)*255\n",
    "    imgb = imgb.astype(np.uint8)\n",
    "    showImage(imgb)\n",
    "    for _ in range(5):\n",
    "        imgb = cv2.GaussianBlur(imgb,(5,5),-1)\n",
    "        \n",
    "    imgxy = cv2.Sobel(imgb,-1,dx=1,dy=1,ksize=5)\n",
    "    \n",
    "    imgt = imgxy\n",
    "    imgxy = imgxy + imgb \n",
    "\n",
    "    for _ in range(3):\n",
    "        imgxy = cv2.GaussianBlur(imgxy,(5,1),-1)\n",
    "\n",
    "        imgxy = cv2.erode(imgxy,np.ones((3,5)),iterations = 2)\n",
    "        imgxy = cv2.dilate(imgxy,np.ones((3,9)),iterations = 2)\n",
    "        \n",
    "        imgxy = ((imgxy > 15)*255).astype(np.uint8)\n",
    "\n",
    "        #showImage(imgxy)\n",
    "\n",
    "    #showImage(imgxy)\n",
    "    return imgxy\n",
    "#showImage(get2img(img))"
   ]
  },
  {
   "cell_type": "code",
   "execution_count": null,
   "id": "bd0e6a02",
   "metadata": {
    "scrolled": false
   },
   "outputs": [],
   "source": [
    "def get3img(img):\n",
    "    imgb = (img <= 170)*255\n",
    "    imgb = imgb.astype(np.uint8)\n",
    "    \n",
    "    imgb1 = (img <= 125)*255\n",
    "    imgb1 = imgb1.astype(np.uint8)\n",
    "    \n",
    "    imgb = (imgb & imgb1) | imgb1\n",
    "    \n",
    "    for _ in range(5):\n",
    "        imgb = cv2.erode(imgb,np.ones((1,3)),iterations = 1)\n",
    "        imgb = cv2.GaussianBlur(imgb,(7,7),-1)\n",
    "        imgb = ((imgb!=0)*255).astype(np.uint8)\n",
    "    \n",
    "    imgb = cv2.dilate(imgb,np.ones((3,7)),iterations = 3)\n",
    "    \n",
    "    imgb = (cv2.Canny(imgb,170,255)>15)*255\n",
    "    imgb = imgb.astype(np.uint8)\n",
    "\n",
    "    return imgb\n",
    "\n",
    "#img = cv2.cvtColor(cv2.imread(\"./data/TRACKB_training/cTDaR_t00852.jpg\"),cv2.COLOR_BGR2GRAY)\n",
    "#showImage(img)\n",
    "#showImage(get3img(img))"
   ]
  },
  {
   "cell_type": "code",
   "execution_count": null,
   "id": "9948641c",
   "metadata": {},
   "outputs": [],
   "source": [
    "#img1 = cv2.cvtColor(get2img(img),cv2.COLOR_GRAY2BGR)\n",
    "#showImage(img1)"
   ]
  },
  {
   "cell_type": "code",
   "execution_count": null,
   "id": "1eef9dd8",
   "metadata": {
    "scrolled": false
   },
   "outputs": [],
   "source": [
    "from random import choice\n",
    "from matplotlib.colors import cnames\n",
    "from matplotlib.patches import Rectangle\n",
    "\n",
    "colors = [c for c in cnames]\n",
    "\n",
    "file = \"../data/TRACKB_training/cTDaR_t00799.xml\"\n",
    "def get_color():\n",
    "    return choice(colors)\n",
    "def get_xy_cord(cord):\n",
    "    cord = [list(map(int,xy.split(','))) for xy in cord]\n",
    "    cord.sort()\n",
    "    xy = cord[0]\n",
    "    h,w =  abs(cord[-1][0] - xy[0]),abs(xy[1] - cord[-1][1])\n",
    "    #print(xy,h,w)\n",
    "    return np.asarray([xy,h,w])\n",
    "\n",
    "\n",
    "#def flipHorizontal(img):\n",
    "    \n",
    "#def get_color():\n",
    "rt = ET.parse(file).getroot()\n",
    "imgname = \"../data/TRACKB_training/\" + rt.attrib['filename']\n",
    "points = []\n",
    "for table in rt:\n",
    "    cord = table[0].attrib[\"points\"].split()\n",
    "    #if len(cord) != 4:\n",
    "    #    continue\n",
    "    points.append(get_xy_cord(cord))\n",
    "    #for cell in table[1:]:\n",
    "    #    cell_cord = cell[0].attrib['points'].split()\n",
    "    #    #if len(cell_cord) == 4:\n",
    "    #    #    continue\n",
    "    #    points.append(get_xy_cord(cell_cord))\n",
    "        \n",
    "#img = cv2.imread(imgname)\n",
    "#plot = showImage(img)\n",
    "\n",
    "#shp_r = (1024,720)\n",
    "#img_shape = img.shape[:2]#\n",
    "\n",
    "#print(img_shape)\n",
    "#imratio = min(shp_r)/min(img_shape)\n",
    "#if imratio*max(img_shape) > max(shp_r):\n",
    "#    imratio = max(shp_r)/max(img_shape)\n",
    "#    \n",
    "#print(imratio)\n",
    "\n",
    "#im_shape = np.dot(imratio,img_shape).astype(np.int)\n",
    "\n",
    "#print(im_shape)\n",
    "\n",
    "\n",
    "#imr = cv2.resize(img,(im_shape[1],im_shape[0]),interpolation=cv2.INTER_CUBIC)\n",
    "#print(imr.shape)\n",
    "\n",
    "#imratio = 1\n",
    "\n",
    "#plot = showImage(img)\n",
    "#for xy,h,w in points:\n",
    "#    plot.add_patch(Rectangle((xy[0]*imratio,xy[1]*imratio),h*imratio,w*imratio,edgecolor=get_color(),alpha=0.7,facecolor=\"none\",linewidth=2))\n"
   ]
  },
  {
   "cell_type": "code",
   "execution_count": null,
   "id": "a5bbe159",
   "metadata": {},
   "outputs": [],
   "source": [
    "from random import shuffle\n",
    "def get_color():\n",
    "    return choice(colors)\n",
    "\n",
    "mival = 0\n",
    "colors = [c for c in cnames]\n",
    "def get_mul_xy(xy):\n",
    "    a,b = xy\n",
    "    a,b = a+17,b+17\n",
    "    return a*b\n",
    "def get_xy_cord(cord,label:int = 0):\n",
    "        cord = [list(map(int,xy.split(','))) for xy in cord]\n",
    "        acord = [[get_mul_xy(xy),i ] for i,xy in enumerate(cord)]\n",
    "        acord.sort()\n",
    "        sindx,eindx = acord[0][1],acord[-1][1]\n",
    "        xy = cord [sindx]\n",
    "        w,h = abs(cord[eindx][0] - xy[0]),abs(xy[1] - cord[eindx][1])\n",
    "\n",
    "        return np.asarray([max(0,xy[0]),max(0,xy[1]),max(0,w),max(0,h),label])\n",
    "\n",
    "def get_XML_file_paths(path:str = \"./*.xml\"):\n",
    "    \"\"\" Returns XML File PathList    \"\"\"\n",
    "    dirs = glob.glob(path)\n",
    "    return dirs\n",
    "\n",
    "#LABEL: 1:Table, 2:Cell\n",
    "\n",
    "def get_xml_data(path:str = None):\n",
    "    assert path != None, \"Please give input path\"\n",
    "    global mival\n",
    "    dli = get_XML_file_paths(path + \"*.xml\")\n",
    "    ntable,ndocs,ncells = 0,0,0\n",
    "    tables,img_path = [],[]\n",
    "    for i,path_xml in enumerate(dli):\n",
    "        tree = ET.parse(path_xml)\n",
    "        root = tree.getroot()\n",
    "        fname = root.attrib['filename']\n",
    "        img_path.append(path + fname)\n",
    "        ndocs += 1\n",
    "        points = []\n",
    "        for table in root:\n",
    "            cord = table[0].attrib[\"points\"].split()\n",
    "            #_,_,h,w = get_xy_cord(cord,1)\n",
    "            #if h < 1000 or w < 1000:\n",
    "            #    print(path_xml,h,w)\n",
    "            points.append(get_xy_cord(cord,1))\n",
    "            ntable += 1\n",
    "            for cell in table[1:]:\n",
    "                cell_cord = cell[0].attrib['points'].split()\n",
    "       #     #    ncells += 1\n",
    "      #          get_xy_cord(cell_cord,2)\n",
    "                points.append(np.asarray(get_xy_cord(cell_cord,2)))\n",
    "                #break\n",
    "        #shuffle(points)\n",
    "        tables.append(np.asarray(points))\n",
    "    \n",
    "    print(ntable,ndocs,ncells,mival)\n",
    "    return np.asarray(tables,dtype=object),img_path\n",
    "data,img_path = get_xml_data(\"../data/TRACKB_training/\")"
   ]
  },
  {
   "cell_type": "code",
   "execution_count": null,
   "id": "ef38fc75",
   "metadata": {},
   "outputs": [],
   "source": []
  },
  {
   "cell_type": "code",
   "execution_count": null,
   "id": "74753890",
   "metadata": {},
   "outputs": [],
   "source": [
    "print(img_path[597])\n",
    "img = cv2.imread(img_path[597])\n",
    "lb = data[597]\n",
    "\n",
    "\n",
    "\n",
    "plot = showImage(img)\n",
    "print(img.shape)\n",
    "for pg in lb:\n",
    "    plot.add_patch(Rectangle((pg[0],pg[1]),pg[2],pg[3],edgecolor=get_color(),alpha=0.7,facecolor=\"none\",linewidth=2))\n"
   ]
  },
  {
   "cell_type": "code",
   "execution_count": null,
   "id": "ac109dc1",
   "metadata": {},
   "outputs": [],
   "source": [
    "import pandas as pd\n",
    "d2 = []\n",
    "for image in data:\n",
    "    for x,y,h,w in image:\n",
    "        d2.append({'x':x,'y':y,'h':h,'w':w})\n"
   ]
  },
  {
   "cell_type": "code",
   "execution_count": null,
   "id": "53e5b2df",
   "metadata": {},
   "outputs": [],
   "source": [
    "pd1 = pd.DataFrame(d2)\n",
    "\n",
    "pd1.describe()"
   ]
  },
  {
   "cell_type": "code",
   "execution_count": null,
   "id": "02c7dbb2",
   "metadata": {},
   "outputs": [],
   "source": [
    "import seaborn as sns"
   ]
  },
  {
   "cell_type": "code",
   "execution_count": null,
   "id": "8b2b96a0",
   "metadata": {},
   "outputs": [],
   "source": [
    "sns.jointplot(x=\"w\", y=\"h\", data=pd1)\n",
    "sns.jointplot(x=\"w\", y=\"h\", data=pd1, kind='kde')"
   ]
  },
  {
   "cell_type": "code",
   "execution_count": null,
   "id": "4d9c1800",
   "metadata": {},
   "outputs": [],
   "source": [
    "d3 = []\n",
    "for path in img_path:\n",
    "    shape = list(cv2.imread(path).shape[:2])\n",
    "    d3.append({\"h\":shape[0],\"w\":shape[1]})\n",
    "    "
   ]
  },
  {
   "cell_type": "code",
   "execution_count": null,
   "id": "c2f7622b",
   "metadata": {},
   "outputs": [],
   "source": [
    "pd2 = pd.DataFrame(d3)\n",
    "pd2.describe()"
   ]
  },
  {
   "cell_type": "code",
   "execution_count": null,
   "id": "ac599a14",
   "metadata": {},
   "outputs": [],
   "source": [
    "\n",
    "sns.jointplot(x=\"w\", y=\"h\", data=pd2)\n",
    "sns.jointplot(x=\"w\", y=\"h\", data=pd2, kind='kde')"
   ]
  },
  {
   "cell_type": "code",
   "execution_count": null,
   "id": "af25e51d",
   "metadata": {},
   "outputs": [],
   "source": [
    "from random import randint as rint\n",
    "\n",
    "#ival = rint(0,len(img_path)-1)\n",
    "ival = 78\n",
    "impath = img_path[ival]\n",
    "print(impath)\n",
    "d5 =  data[ival]"
   ]
  },
  {
   "cell_type": "code",
   "execution_count": null,
   "id": "df4e5eae",
   "metadata": {},
   "outputs": [],
   "source": [
    "img = cv2.imread(impath)"
   ]
  },
  {
   "cell_type": "code",
   "execution_count": null,
   "id": "bd3633ff",
   "metadata": {},
   "outputs": [],
   "source": [
    "imgr = cv2.resize(img,(1080,1440))"
   ]
  },
  {
   "cell_type": "code",
   "execution_count": null,
   "id": "03f15754",
   "metadata": {},
   "outputs": [],
   "source": [
    "\n",
    "plot = showImage(imgr)\n",
    "#for xy,h,w in points:\n",
    "#pg = p3\n",
    "#print(pg)\n",
    "for pg in bxs[rint(20000,200000):]:\n",
    "    plot.add_patch(Rectangle((pg[0],pg[1]),pg[2],pg[3],edgecolor=get_color(),alpha=0.7,facecolor=\"none\",linewidth=2))\n"
   ]
  },
  {
   "cell_type": "code",
   "execution_count": null,
   "id": "9d5cac66",
   "metadata": {},
   "outputs": [],
   "source": [
    "d5"
   ]
  },
  {
   "cell_type": "code",
   "execution_count": null,
   "id": "348b89dd",
   "metadata": {},
   "outputs": [],
   "source": [
    "p1 = d5[0][:4]"
   ]
  },
  {
   "cell_type": "code",
   "execution_count": null,
   "id": "1b27fb25",
   "metadata": {},
   "outputs": [],
   "source": [
    "s1 = img.shape[:2]\n",
    "print(s1,p1)\n",
    "p2 = p1[0]/s1[1],p1[1]/s1[0],p1[2]/s1[1],p1[3]/s1[0]"
   ]
  },
  {
   "cell_type": "code",
   "execution_count": null,
   "id": "5749f766",
   "metadata": {},
   "outputs": [],
   "source": [
    "print(p1)\n",
    "print(p2)\n",
    "p3 = p2[0]*1080,p2[1]*1440,p2[2]*1080,p2[3]*1440\n",
    "print(p3)"
   ]
  },
  {
   "cell_type": "code",
   "execution_count": null,
   "id": "f06f8b67",
   "metadata": {},
   "outputs": [],
   "source": [
    "p1,s1,p3"
   ]
  },
  {
   "cell_type": "code",
   "execution_count": null,
   "id": "9032e9f5",
   "metadata": {},
   "outputs": [],
   "source": [
    "from importlib import reload\n",
    "import  retina_net_model \n",
    "\n",
    "retina_net_model  = reload(retina_net_model)\n",
    "AnchorBox = retina_net_model.AnchorBox\n",
    "abxs = AnchorBox()\n",
    "bxs = abxs.get_anchors(1300,800)"
   ]
  },
  {
   "cell_type": "code",
   "execution_count": null,
   "id": "a7e48d1d",
   "metadata": {},
   "outputs": [],
   "source": [
    "len(bxs)"
   ]
  },
  {
   "cell_type": "code",
   "execution_count": null,
   "id": "91499d8e",
   "metadata": {},
   "outputs": [],
   "source": [
    "import box_util\n",
    "#box_util = reload(box_util)\n",
    "\n",
    "b2xs = box_util.convert_to_min_max_corner(bxs)"
   ]
  },
  {
   "cell_type": "code",
   "execution_count": null,
   "id": "58653c40",
   "metadata": {
    "scrolled": false
   },
   "outputs": [],
   "source": [
    "bix = []\n",
    "def get_static_iou(b1,b2 = np.asarray([358.0,274.0,804.0,1275.0])):\n",
    "    mic = min(b1[:2],b2[:2])\n",
    "    mxc = max(b1[2:],b2[2:])\n",
    "    \n",
    "for i,row in enumerate(b2xs):\n",
    "    srow = row.numpy()\n",
    "    x,y,w,h = srow\n",
    "    if 300.0 < x < 400.0 and 200 < y < 300:\n",
    "        print([x,y,w,h])\n",
    "    #bix.append([g[2]*g[3],i])"
   ]
  },
  {
   "cell_type": "code",
   "execution_count": null,
   "id": "07d61cba",
   "metadata": {},
   "outputs": [],
   "source": [
    "bix.sort()"
   ]
  },
  {
   "cell_type": "code",
   "execution_count": null,
   "id": "2375d043",
   "metadata": {},
   "outputs": [],
   "source": [
    "for row in bxs.numpy():\n",
    "    print(row)"
   ]
  },
  {
   "cell_type": "code",
   "execution_count": null,
   "id": "dc2b8e01",
   "metadata": {},
   "outputs": [],
   "source": [
    "data[0]"
   ]
  },
  {
   "cell_type": "code",
   "execution_count": null,
   "id": "a80f9524",
   "metadata": {},
   "outputs": [],
   "source": []
  },
  {
   "cell_type": "code",
   "execution_count": null,
   "id": "6c169c12",
   "metadata": {},
   "outputs": [],
   "source": []
  },
  {
   "cell_type": "code",
   "execution_count": null,
   "id": "ac235578",
   "metadata": {},
   "outputs": [],
   "source": []
  },
  {
   "cell_type": "code",
   "execution_count": null,
   "id": "3027dae4",
   "metadata": {},
   "outputs": [],
   "source": []
  },
  {
   "cell_type": "code",
   "execution_count": null,
   "id": "22a73d82",
   "metadata": {},
   "outputs": [],
   "source": [
    "vals,counts = np.unique(img,return_counts=True)\n",
    "fig, ax = plt.subplots(figsize=(100,20))\n",
    "sns.barplot(x=vals,y=counts,ax=ax)"
   ]
  },
  {
   "cell_type": "code",
   "execution_count": null,
   "id": "5f9ee0a1",
   "metadata": {},
   "outputs": [],
   "source": [
    "sval = 0\n",
    "for v,c in zip(vals,counts):\n",
    "    sval += (v*c)\n",
    "\n",
    "print(sval/(len(vals)*len(counts)*256))"
   ]
  },
  {
   "cell_type": "code",
   "execution_count": null,
   "id": "6f510758",
   "metadata": {},
   "outputs": [],
   "source": [
    "pth = \"./data/TRACKB_training/*.jpg\"\n",
    "li = glob.glob(pth)\n",
    "color_dict = dict()\n",
    "for i in range(256):\n",
    "    color_dict[i] = 0\n",
    "    \n",
    "from multiprocessing import Pool\n",
    "def some_func(imgp:str):\n",
    "    print(\".\",end=\"\")\n",
    "    img = cv2.cvtColor(cv2.imread(imgp),cv2.COLOR_BGR2GRAY)\n",
    "    vals,counts = np.unique(img,return_counts=True)\n",
    "    for i,v in enumerate(vals):\n",
    "        color_dict[v] = counts[i]    \n"
   ]
  },
  {
   "cell_type": "code",
   "execution_count": null,
   "id": "ce70e8a3",
   "metadata": {},
   "outputs": [],
   "source": [
    "for imgp in li:\n",
    "    print(\".\", end = \"\")\n",
    "    some_func(imgp)"
   ]
  },
  {
   "cell_type": "code",
   "execution_count": null,
   "id": "d09790a2",
   "metadata": {},
   "outputs": [],
   "source": [
    "vals = [i for i in color_dict]\n",
    "counts = [color_dict[i] for i in color_dict]\n",
    "fig, ax = plt.subplots(figsize=(100,20))\n",
    "sns.barplot(x=vals,y=counts,ax=ax)"
   ]
  },
  {
   "cell_type": "code",
   "execution_count": null,
   "id": "d4d19206",
   "metadata": {},
   "outputs": [],
   "source": []
  },
  {
   "cell_type": "code",
   "execution_count": null,
   "id": "537bf6b6",
   "metadata": {},
   "outputs": [],
   "source": []
  },
  {
   "cell_type": "code",
   "execution_count": null,
   "id": "3f92068a",
   "metadata": {},
   "outputs": [],
   "source": [
    "def get_all_three_images(img_path:str):\n",
    "    img = cv2.imread(img_path)\n",
    "    img_gry = cv2.cvtColor(img,cv2.COLOR_BGR2GRAY)\n",
    "    img2 = cv2.cvtColor(get2img(img_gry),cv2.COLOR_GRAY2BGR)\n",
    "    img3 = cv2.cvtColor(get3img(img_gry),cv2.COLOR_GRAY2BGR)\n",
    "    return [img,img2,img3]"
   ]
  },
  {
   "cell_type": "code",
   "execution_count": null,
   "id": "b701dc13",
   "metadata": {},
   "outputs": [],
   "source": [
    "print(img_path[0])\n",
    "imgs = get_all_three_images(img_path[0])"
   ]
  },
  {
   "cell_type": "code",
   "execution_count": null,
   "id": "27f950f2",
   "metadata": {
    "scrolled": false
   },
   "outputs": [],
   "source": [
    "import ImageUtil\n",
    "import Box_Util\n",
    "imutil = reload(ImageUtil)\n",
    "bxutil = reload(Box_Util)\n",
    "\n",
    "\n",
    "for i in range(1,2):\n",
    "    print(\"\\n\\n\\n\\t\\t\\t\\t\\t\\t\",i)\n",
    "    d = ImageUtil.preprocess_image(get_all_three_images(img_path[i]),data[i])\n",
    "\n",
    "    \n",
    "plt1 = showImage(d[0][1])\n",
    "x,y,w,h = bxutil.convert_to_display_format(d[1][234])\n",
    "#x,y,w,h = int(x),int(y),int(w),int(h)\n",
    "print(x,y,w,h)\n",
    "#w,h = 668,312\n",
    "plt1.add_patch(Rectangle((x,y),h,w,edgecolor='gray',alpha=0.7,facecolor=\"none\",linewidth=2))"
   ]
  },
  {
   "cell_type": "code",
   "execution_count": null,
   "id": "3592da10",
   "metadata": {},
   "outputs": [],
   "source": []
  },
  {
   "cell_type": "code",
   "execution_count": null,
   "id": "5788c06a",
   "metadata": {},
   "outputs": [],
   "source": [
    "d[1]"
   ]
  },
  {
   "cell_type": "code",
   "execution_count": null,
   "id": "608528fa",
   "metadata": {},
   "outputs": [],
   "source": []
  },
  {
   "cell_type": "code",
   "execution_count": null,
   "id": "6d407063",
   "metadata": {},
   "outputs": [],
   "source": [
    "import RetinaModel\n",
    "\n",
    "rm = reload(RetinaModel)\n",
    "\n",
    "\n",
    "lb = rm.LabelEncoder()\n",
    "imgs,img_lb = [],[]\n",
    "for i in range(32):\n",
    "    imgs.append(get_all_three_images(img_path[i]))\n",
    "    img_lb.append(data[i])"
   ]
  },
  {
   "cell_type": "code",
   "execution_count": null,
   "id": "bdd4df4c",
   "metadata": {},
   "outputs": [],
   "source": [
    "data = lb.encode_batch(imgs,img_lb)"
   ]
  },
  {
   "cell_type": "code",
   "execution_count": null,
   "id": "9f1a973f",
   "metadata": {},
   "outputs": [],
   "source": [
    "data[0][234]"
   ]
  },
  {
   "cell_type": "code",
   "execution_count": null,
   "id": "b7326e88",
   "metadata": {},
   "outputs": [],
   "source": [
    "from random import randint as rint"
   ]
  },
  {
   "cell_type": "code",
   "execution_count": null,
   "id": "67faace7",
   "metadata": {},
   "outputs": [],
   "source": [
    "import retina_net_model as rmodel\n",
    "import tensorflow as tf\n",
    "from matplotlib.patches import Rectangle\n",
    "rmodel = reload(rmodel)\n",
    "abox = rmodel.AnchorBox()\n",
    "img = cv2.cvtColor(cv2.imread(img_path[1]),cv2.COLOR_BGR2GRAY)\n",
    "abbb = tf.cast(abox.get_anchors(img.shape[0],img.shape[1]),dtype = tf.int32)\n",
    "len(abbb)\n"
   ]
  },
  {
   "cell_type": "code",
   "execution_count": null,
   "id": "c6e07f2d",
   "metadata": {},
   "outputs": [],
   "source": [
    "bbox = abbb[...,2]*abbb[...,3]\n",
    "bbox = bbox.numpy()\n",
    "\n",
    "ival = []\n",
    "for i,val in enumerate(bbox):\n",
    "    ival.append([val,i])"
   ]
  },
  {
   "cell_type": "code",
   "execution_count": null,
   "id": "b5a29853",
   "metadata": {},
   "outputs": [],
   "source": [
    "ival.sort()"
   ]
  },
  {
   "cell_type": "code",
   "execution_count": null,
   "id": "66218e74",
   "metadata": {},
   "outputs": [],
   "source": [
    "shuffle(ival)"
   ]
  },
  {
   "cell_type": "code",
   "execution_count": null,
   "id": "572ff6fa",
   "metadata": {
    "scrolled": false
   },
   "outputs": [],
   "source": [
    "plot = showImage(img)\n",
    "\n",
    "for i in range(rint(500,1000)):\n",
    "    x,y,w,h = abbb[ival[-1*i][1]].numpy()\n",
    "    #print([x,y,w,h],ival[-1*i],w*h)\n",
    "    plot.add_patch(Rectangle((x,y),h,w,edgecolor=get_color(),alpha=0.7,facecolor=\"none\",linewidth=2))"
   ]
  },
  {
   "cell_type": "code",
   "execution_count": null,
   "id": "772735b7",
   "metadata": {
    "scrolled": false
   },
   "outputs": [],
   "source": [
    "from time import time\n",
    "\n",
    "import image_util  as imutil\n",
    "from importlib import reload\n",
    "reload(imutil)\n",
    "imaug = imutil.ImageAugmenter()\n",
    "\n",
    "t1 = time()\n",
    "imgs = imaug.get_all_3_images(\"./data/custom_data/cbc1.png\")\n",
    "t2 = time()\n",
    "print(t2-t1)\n",
    "\n",
    "\n",
    "showImage(imgs[0])\n",
    "showImage(imgs[1])\n",
    "showImage(imgs[2])"
   ]
  }
 ],
 "metadata": {
  "kernelspec": {
   "display_name": "Python 3 (ipykernel)",
   "language": "python",
   "name": "python3"
  },
  "language_info": {
   "codemirror_mode": {
    "name": "ipython",
    "version": 3
   },
   "file_extension": ".py",
   "mimetype": "text/x-python",
   "name": "python",
   "nbconvert_exporter": "python",
   "pygments_lexer": "ipython3",
   "version": "3.9.6"
  }
 },
 "nbformat": 4,
 "nbformat_minor": 5
}
